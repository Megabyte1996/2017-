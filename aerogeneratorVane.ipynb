{
 "cells": [
  {
   "cell_type": "code",
   "execution_count": 1,
   "metadata": {},
   "outputs": [
    {
     "name": "stdout",
     "output_type": "stream",
     "text": [
      "(393886, 28)\n"
     ]
    },
    {
     "data": {
      "text/html": [
       "<div>\n",
       "<style scoped>\n",
       "    .dataframe tbody tr th:only-of-type {\n",
       "        vertical-align: middle;\n",
       "    }\n",
       "\n",
       "    .dataframe tbody tr th {\n",
       "        vertical-align: top;\n",
       "    }\n",
       "\n",
       "    .dataframe thead th {\n",
       "        text-align: right;\n",
       "    }\n",
       "</style>\n",
       "<table border=\"1\" class=\"dataframe\">\n",
       "  <thead>\n",
       "    <tr style=\"text-align: right;\">\n",
       "      <th></th>\n",
       "      <th>time</th>\n",
       "      <th>wind_speed</th>\n",
       "      <th>generator_speed</th>\n",
       "      <th>power</th>\n",
       "      <th>wind_direction</th>\n",
       "      <th>wind_direction_mean</th>\n",
       "      <th>yaw_position</th>\n",
       "      <th>yaw_speed</th>\n",
       "      <th>pitch1_angle</th>\n",
       "      <th>pitch2_angle</th>\n",
       "      <th>...</th>\n",
       "      <th>acc_y</th>\n",
       "      <th>environment_tmp</th>\n",
       "      <th>int_tmp</th>\n",
       "      <th>pitch1_ng5_tmp</th>\n",
       "      <th>pitch2_ng5_tmp</th>\n",
       "      <th>pitch3_ng5_tmp</th>\n",
       "      <th>pitch1_ng5_DC</th>\n",
       "      <th>pitch2_ng5_DC</th>\n",
       "      <th>pitch3_ng5_DC</th>\n",
       "      <th>group</th>\n",
       "    </tr>\n",
       "  </thead>\n",
       "  <tbody>\n",
       "    <tr>\n",
       "      <th>0</th>\n",
       "      <td>2015-11-01 20:20:16</td>\n",
       "      <td>1.859993</td>\n",
       "      <td>1.223595</td>\n",
       "      <td>2.515790</td>\n",
       "      <td>-2.072739</td>\n",
       "      <td>-2.073627</td>\n",
       "      <td>-0.655343</td>\n",
       "      <td>0.030804</td>\n",
       "      <td>0.555556</td>\n",
       "      <td>0.506667</td>\n",
       "      <td>...</td>\n",
       "      <td>0.061109</td>\n",
       "      <td>-0.403919</td>\n",
       "      <td>0.014918</td>\n",
       "      <td>1.307692</td>\n",
       "      <td>1.123077</td>\n",
       "      <td>0.783077</td>\n",
       "      <td>1.36</td>\n",
       "      <td>0.00</td>\n",
       "      <td>1.56</td>\n",
       "      <td>1</td>\n",
       "    </tr>\n",
       "    <tr>\n",
       "      <th>1</th>\n",
       "      <td>2015-11-01 20:20:23</td>\n",
       "      <td>1.911625</td>\n",
       "      <td>1.293394</td>\n",
       "      <td>2.313551</td>\n",
       "      <td>-2.010591</td>\n",
       "      <td>-1.615140</td>\n",
       "      <td>-0.655343</td>\n",
       "      <td>0.030804</td>\n",
       "      <td>0.195556</td>\n",
       "      <td>0.133333</td>\n",
       "      <td>...</td>\n",
       "      <td>-1.209522</td>\n",
       "      <td>-0.421277</td>\n",
       "      <td>-0.002291</td>\n",
       "      <td>1.307692</td>\n",
       "      <td>1.123077</td>\n",
       "      <td>0.783077</td>\n",
       "      <td>0.44</td>\n",
       "      <td>2.88</td>\n",
       "      <td>-2.60</td>\n",
       "      <td>1</td>\n",
       "    </tr>\n",
       "    <tr>\n",
       "      <th>2</th>\n",
       "      <td>2015-11-01 20:20:30</td>\n",
       "      <td>1.635027</td>\n",
       "      <td>1.280099</td>\n",
       "      <td>2.507799</td>\n",
       "      <td>-2.053750</td>\n",
       "      <td>-0.282742</td>\n",
       "      <td>-0.649566</td>\n",
       "      <td>0.170338</td>\n",
       "      <td>0.964444</td>\n",
       "      <td>0.951111</td>\n",
       "      <td>...</td>\n",
       "      <td>0.061109</td>\n",
       "      <td>-0.421277</td>\n",
       "      <td>-0.002291</td>\n",
       "      <td>1.307692</td>\n",
       "      <td>1.123077</td>\n",
       "      <td>0.783077</td>\n",
       "      <td>1.76</td>\n",
       "      <td>0.60</td>\n",
       "      <td>2.56</td>\n",
       "      <td>1</td>\n",
       "    </tr>\n",
       "    <tr>\n",
       "      <th>3</th>\n",
       "      <td>2015-11-01 20:20:37</td>\n",
       "      <td>1.786234</td>\n",
       "      <td>1.280099</td>\n",
       "      <td>2.349593</td>\n",
       "      <td>-2.007138</td>\n",
       "      <td>-2.234477</td>\n",
       "      <td>-0.655343</td>\n",
       "      <td>-0.004080</td>\n",
       "      <td>0.168889</td>\n",
       "      <td>0.137778</td>\n",
       "      <td>...</td>\n",
       "      <td>0.061109</td>\n",
       "      <td>-0.403919</td>\n",
       "      <td>-0.002291</td>\n",
       "      <td>1.307692</td>\n",
       "      <td>1.123077</td>\n",
       "      <td>0.783077</td>\n",
       "      <td>2.80</td>\n",
       "      <td>-0.48</td>\n",
       "      <td>0.12</td>\n",
       "      <td>1</td>\n",
       "    </tr>\n",
       "    <tr>\n",
       "      <th>4</th>\n",
       "      <td>2015-11-01 20:20:47</td>\n",
       "      <td>1.786234</td>\n",
       "      <td>1.263480</td>\n",
       "      <td>2.321566</td>\n",
       "      <td>-2.264365</td>\n",
       "      <td>-1.428959</td>\n",
       "      <td>-0.637917</td>\n",
       "      <td>0.414524</td>\n",
       "      <td>0.182222</td>\n",
       "      <td>0.168889</td>\n",
       "      <td>...</td>\n",
       "      <td>-1.209522</td>\n",
       "      <td>-0.403919</td>\n",
       "      <td>0.014918</td>\n",
       "      <td>1.307692</td>\n",
       "      <td>1.123077</td>\n",
       "      <td>0.783077</td>\n",
       "      <td>-0.88</td>\n",
       "      <td>1.72</td>\n",
       "      <td>0.92</td>\n",
       "      <td>1</td>\n",
       "    </tr>\n",
       "  </tbody>\n",
       "</table>\n",
       "<p>5 rows × 28 columns</p>\n",
       "</div>"
      ],
      "text/plain": [
       "                 time  wind_speed  generator_speed     power  wind_direction  \\\n",
       "0 2015-11-01 20:20:16    1.859993         1.223595  2.515790       -2.072739   \n",
       "1 2015-11-01 20:20:23    1.911625         1.293394  2.313551       -2.010591   \n",
       "2 2015-11-01 20:20:30    1.635027         1.280099  2.507799       -2.053750   \n",
       "3 2015-11-01 20:20:37    1.786234         1.280099  2.349593       -2.007138   \n",
       "4 2015-11-01 20:20:47    1.786234         1.263480  2.321566       -2.264365   \n",
       "\n",
       "   wind_direction_mean  yaw_position  yaw_speed  pitch1_angle  pitch2_angle  \\\n",
       "0            -2.073627     -0.655343   0.030804      0.555556      0.506667   \n",
       "1            -1.615140     -0.655343   0.030804      0.195556      0.133333   \n",
       "2            -0.282742     -0.649566   0.170338      0.964444      0.951111   \n",
       "3            -2.234477     -0.655343  -0.004080      0.168889      0.137778   \n",
       "4            -1.428959     -0.637917   0.414524      0.182222      0.168889   \n",
       "\n",
       "   ...       acc_y  environment_tmp   int_tmp  pitch1_ng5_tmp  pitch2_ng5_tmp  \\\n",
       "0  ...    0.061109        -0.403919  0.014918        1.307692        1.123077   \n",
       "1  ...   -1.209522        -0.421277 -0.002291        1.307692        1.123077   \n",
       "2  ...    0.061109        -0.421277 -0.002291        1.307692        1.123077   \n",
       "3  ...    0.061109        -0.403919 -0.002291        1.307692        1.123077   \n",
       "4  ...   -1.209522        -0.403919  0.014918        1.307692        1.123077   \n",
       "\n",
       "   pitch3_ng5_tmp  pitch1_ng5_DC  pitch2_ng5_DC  pitch3_ng5_DC  group  \n",
       "0        0.783077           1.36           0.00           1.56      1  \n",
       "1        0.783077           0.44           2.88          -2.60      1  \n",
       "2        0.783077           1.76           0.60           2.56      1  \n",
       "3        0.783077           2.80          -0.48           0.12      1  \n",
       "4        0.783077          -0.88           1.72           0.92      1  \n",
       "\n",
       "[5 rows x 28 columns]"
      ]
     },
     "execution_count": 1,
     "metadata": {},
     "output_type": "execute_result"
    }
   ],
   "source": [
    "import pandas as pd\n",
    "\n",
    "data_df = pd.read_csv('data.csv', parse_dates=['time'])\n",
    "print(data_df.shape)\n",
    "data_df.head()"
   ]
  },
  {
   "cell_type": "code",
   "execution_count": 2,
   "metadata": {},
   "outputs": [],
   "source": [
    "import pickle\n",
    "\n",
    "with open('data_df.pickle', 'wb') as file:\n",
    "    pickle.dump(data_df, file)"
   ]
  },
  {
   "cell_type": "code",
   "execution_count": 3,
   "metadata": {},
   "outputs": [],
   "source": [
    "import pickle\n",
    "\n",
    "with open('data_df.pickle', 'rb') as file:\n",
    "    data_df = pickle.load(file)"
   ]
  },
  {
   "cell_type": "code",
   "execution_count": 4,
   "metadata": {},
   "outputs": [
    {
     "name": "stdout",
     "output_type": "stream",
     "text": [
      "readcsv time: 8.42 seconds\n",
      "pickleLoad time: 0.08 seconds\n",
      "pickleLoad_time / readcs_time = 0.009\n"
     ]
    }
   ],
   "source": [
    "import time \n",
    "\n",
    "startTime = time.time()\n",
    "data_df = pd.read_csv('data.csv', parse_dates=['time'])\n",
    "readcsv_time = time.time() - startTime\n",
    "print('readcsv time: %.2f seconds' %readcsv_time)\n",
    "\n",
    "startTime2 = time.time()\n",
    "with open('data_df.pickle', 'rb') as file:\n",
    "    data_df = pickle.load(file)\n",
    "pickleLoad_time = time.time() - startTime2\n",
    "print('pickleLoad time: %.2f seconds' %pickleLoad_time)\n",
    "\n",
    "print('pickleLoad_time / readcs_time = %.3f' %(pickleLoad_time/readcsv_time))"
   ]
  },
  {
   "cell_type": "code",
   "execution_count": 5,
   "metadata": {},
   "outputs": [
    {
     "data": {
      "text/plain": [
       "(393886, 28)"
      ]
     },
     "execution_count": 5,
     "metadata": {},
     "output_type": "execute_result"
    }
   ],
   "source": [
    "data_df.shape"
   ]
  },
  {
   "cell_type": "code",
   "execution_count": 6,
   "metadata": {},
   "outputs": [
    {
     "data": {
      "text/html": [
       "<div>\n",
       "<style scoped>\n",
       "    .dataframe tbody tr th:only-of-type {\n",
       "        vertical-align: middle;\n",
       "    }\n",
       "\n",
       "    .dataframe tbody tr th {\n",
       "        vertical-align: top;\n",
       "    }\n",
       "\n",
       "    .dataframe thead th {\n",
       "        text-align: right;\n",
       "    }\n",
       "</style>\n",
       "<table border=\"1\" class=\"dataframe\">\n",
       "  <thead>\n",
       "    <tr style=\"text-align: right;\">\n",
       "      <th></th>\n",
       "      <th>time</th>\n",
       "      <th>wind_speed</th>\n",
       "      <th>generator_speed</th>\n",
       "      <th>power</th>\n",
       "      <th>wind_direction</th>\n",
       "      <th>wind_direction_mean</th>\n",
       "      <th>yaw_position</th>\n",
       "      <th>yaw_speed</th>\n",
       "      <th>pitch1_angle</th>\n",
       "      <th>pitch2_angle</th>\n",
       "      <th>...</th>\n",
       "      <th>acc_y</th>\n",
       "      <th>environment_tmp</th>\n",
       "      <th>int_tmp</th>\n",
       "      <th>pitch1_ng5_tmp</th>\n",
       "      <th>pitch2_ng5_tmp</th>\n",
       "      <th>pitch3_ng5_tmp</th>\n",
       "      <th>pitch1_ng5_DC</th>\n",
       "      <th>pitch2_ng5_DC</th>\n",
       "      <th>pitch3_ng5_DC</th>\n",
       "      <th>group</th>\n",
       "    </tr>\n",
       "  </thead>\n",
       "  <tbody>\n",
       "    <tr>\n",
       "      <th>0</th>\n",
       "      <td>2015-11-01 20:20:16</td>\n",
       "      <td>1.859993</td>\n",
       "      <td>1.223595</td>\n",
       "      <td>2.515790</td>\n",
       "      <td>-2.072739</td>\n",
       "      <td>-2.073627</td>\n",
       "      <td>-0.655343</td>\n",
       "      <td>0.030804</td>\n",
       "      <td>0.555556</td>\n",
       "      <td>0.506667</td>\n",
       "      <td>...</td>\n",
       "      <td>0.061109</td>\n",
       "      <td>-0.403919</td>\n",
       "      <td>0.014918</td>\n",
       "      <td>1.307692</td>\n",
       "      <td>1.123077</td>\n",
       "      <td>0.783077</td>\n",
       "      <td>1.36</td>\n",
       "      <td>0.00</td>\n",
       "      <td>1.56</td>\n",
       "      <td>1</td>\n",
       "    </tr>\n",
       "    <tr>\n",
       "      <th>1</th>\n",
       "      <td>2015-11-01 20:20:23</td>\n",
       "      <td>1.911625</td>\n",
       "      <td>1.293394</td>\n",
       "      <td>2.313551</td>\n",
       "      <td>-2.010591</td>\n",
       "      <td>-1.615140</td>\n",
       "      <td>-0.655343</td>\n",
       "      <td>0.030804</td>\n",
       "      <td>0.195556</td>\n",
       "      <td>0.133333</td>\n",
       "      <td>...</td>\n",
       "      <td>-1.209522</td>\n",
       "      <td>-0.421277</td>\n",
       "      <td>-0.002291</td>\n",
       "      <td>1.307692</td>\n",
       "      <td>1.123077</td>\n",
       "      <td>0.783077</td>\n",
       "      <td>0.44</td>\n",
       "      <td>2.88</td>\n",
       "      <td>-2.60</td>\n",
       "      <td>1</td>\n",
       "    </tr>\n",
       "    <tr>\n",
       "      <th>2</th>\n",
       "      <td>2015-11-01 20:20:30</td>\n",
       "      <td>1.635027</td>\n",
       "      <td>1.280099</td>\n",
       "      <td>2.507799</td>\n",
       "      <td>-2.053750</td>\n",
       "      <td>-0.282742</td>\n",
       "      <td>-0.649566</td>\n",
       "      <td>0.170338</td>\n",
       "      <td>0.964444</td>\n",
       "      <td>0.951111</td>\n",
       "      <td>...</td>\n",
       "      <td>0.061109</td>\n",
       "      <td>-0.421277</td>\n",
       "      <td>-0.002291</td>\n",
       "      <td>1.307692</td>\n",
       "      <td>1.123077</td>\n",
       "      <td>0.783077</td>\n",
       "      <td>1.76</td>\n",
       "      <td>0.60</td>\n",
       "      <td>2.56</td>\n",
       "      <td>1</td>\n",
       "    </tr>\n",
       "    <tr>\n",
       "      <th>3</th>\n",
       "      <td>2015-11-01 20:20:37</td>\n",
       "      <td>1.786234</td>\n",
       "      <td>1.280099</td>\n",
       "      <td>2.349593</td>\n",
       "      <td>-2.007138</td>\n",
       "      <td>-2.234477</td>\n",
       "      <td>-0.655343</td>\n",
       "      <td>-0.004080</td>\n",
       "      <td>0.168889</td>\n",
       "      <td>0.137778</td>\n",
       "      <td>...</td>\n",
       "      <td>0.061109</td>\n",
       "      <td>-0.403919</td>\n",
       "      <td>-0.002291</td>\n",
       "      <td>1.307692</td>\n",
       "      <td>1.123077</td>\n",
       "      <td>0.783077</td>\n",
       "      <td>2.80</td>\n",
       "      <td>-0.48</td>\n",
       "      <td>0.12</td>\n",
       "      <td>1</td>\n",
       "    </tr>\n",
       "    <tr>\n",
       "      <th>4</th>\n",
       "      <td>2015-11-01 20:20:47</td>\n",
       "      <td>1.786234</td>\n",
       "      <td>1.263480</td>\n",
       "      <td>2.321566</td>\n",
       "      <td>-2.264365</td>\n",
       "      <td>-1.428959</td>\n",
       "      <td>-0.637917</td>\n",
       "      <td>0.414524</td>\n",
       "      <td>0.182222</td>\n",
       "      <td>0.168889</td>\n",
       "      <td>...</td>\n",
       "      <td>-1.209522</td>\n",
       "      <td>-0.403919</td>\n",
       "      <td>0.014918</td>\n",
       "      <td>1.307692</td>\n",
       "      <td>1.123077</td>\n",
       "      <td>0.783077</td>\n",
       "      <td>-0.88</td>\n",
       "      <td>1.72</td>\n",
       "      <td>0.92</td>\n",
       "      <td>1</td>\n",
       "    </tr>\n",
       "  </tbody>\n",
       "</table>\n",
       "<p>5 rows × 28 columns</p>\n",
       "</div>"
      ],
      "text/plain": [
       "                 time  wind_speed  generator_speed     power  wind_direction  \\\n",
       "0 2015-11-01 20:20:16    1.859993         1.223595  2.515790       -2.072739   \n",
       "1 2015-11-01 20:20:23    1.911625         1.293394  2.313551       -2.010591   \n",
       "2 2015-11-01 20:20:30    1.635027         1.280099  2.507799       -2.053750   \n",
       "3 2015-11-01 20:20:37    1.786234         1.280099  2.349593       -2.007138   \n",
       "4 2015-11-01 20:20:47    1.786234         1.263480  2.321566       -2.264365   \n",
       "\n",
       "   wind_direction_mean  yaw_position  yaw_speed  pitch1_angle  pitch2_angle  \\\n",
       "0            -2.073627     -0.655343   0.030804      0.555556      0.506667   \n",
       "1            -1.615140     -0.655343   0.030804      0.195556      0.133333   \n",
       "2            -0.282742     -0.649566   0.170338      0.964444      0.951111   \n",
       "3            -2.234477     -0.655343  -0.004080      0.168889      0.137778   \n",
       "4            -1.428959     -0.637917   0.414524      0.182222      0.168889   \n",
       "\n",
       "   ...       acc_y  environment_tmp   int_tmp  pitch1_ng5_tmp  pitch2_ng5_tmp  \\\n",
       "0  ...    0.061109        -0.403919  0.014918        1.307692        1.123077   \n",
       "1  ...   -1.209522        -0.421277 -0.002291        1.307692        1.123077   \n",
       "2  ...    0.061109        -0.421277 -0.002291        1.307692        1.123077   \n",
       "3  ...    0.061109        -0.403919 -0.002291        1.307692        1.123077   \n",
       "4  ...   -1.209522        -0.403919  0.014918        1.307692        1.123077   \n",
       "\n",
       "   pitch3_ng5_tmp  pitch1_ng5_DC  pitch2_ng5_DC  pitch3_ng5_DC  group  \n",
       "0        0.783077           1.36           0.00           1.56      1  \n",
       "1        0.783077           0.44           2.88          -2.60      1  \n",
       "2        0.783077           1.76           0.60           2.56      1  \n",
       "3        0.783077           2.80          -0.48           0.12      1  \n",
       "4        0.783077          -0.88           1.72           0.92      1  \n",
       "\n",
       "[5 rows x 28 columns]"
      ]
     },
     "execution_count": 6,
     "metadata": {},
     "output_type": "execute_result"
    }
   ],
   "source": [
    "data_df.head()"
   ]
  },
  {
   "cell_type": "code",
   "execution_count": 7,
   "metadata": {},
   "outputs": [
    {
     "name": "stdout",
     "output_type": "stream",
     "text": [
      "<class 'pandas.core.frame.DataFrame'>\n",
      "RangeIndex: 393886 entries, 0 to 393885\n",
      "Data columns (total 28 columns):\n",
      "time                   393886 non-null datetime64[ns]\n",
      "wind_speed             393886 non-null float64\n",
      "generator_speed        393886 non-null float64\n",
      "power                  393886 non-null float64\n",
      "wind_direction         393886 non-null float64\n",
      "wind_direction_mean    393886 non-null float64\n",
      "yaw_position           393886 non-null float64\n",
      "yaw_speed              393886 non-null float64\n",
      "pitch1_angle           393886 non-null float64\n",
      "pitch2_angle           393886 non-null float64\n",
      "pitch3_angle           393886 non-null float64\n",
      "pitch1_speed           393886 non-null float64\n",
      "pitch2_speed           393886 non-null float64\n",
      "pitch3_speed           393886 non-null float64\n",
      "pitch1_moto_tmp        393886 non-null float64\n",
      "pitch2_moto_tmp        393886 non-null float64\n",
      "pitch3_moto_tmp        393886 non-null float64\n",
      "acc_x                  393886 non-null float64\n",
      "acc_y                  393886 non-null float64\n",
      "environment_tmp        393886 non-null float64\n",
      "int_tmp                393886 non-null float64\n",
      "pitch1_ng5_tmp         393886 non-null float64\n",
      "pitch2_ng5_tmp         393886 non-null float64\n",
      "pitch3_ng5_tmp         393886 non-null float64\n",
      "pitch1_ng5_DC          393886 non-null float64\n",
      "pitch2_ng5_DC          393886 non-null float64\n",
      "pitch3_ng5_DC          393886 non-null float64\n",
      "group                  393886 non-null int64\n",
      "dtypes: datetime64[ns](1), float64(26), int64(1)\n",
      "memory usage: 84.1 MB\n"
     ]
    }
   ],
   "source": [
    "data_df.info()"
   ]
  },
  {
   "cell_type": "code",
   "execution_count": 8,
   "metadata": {},
   "outputs": [
    {
     "name": "stdout",
     "output_type": "stream",
     "text": [
      "(26, 2)\n"
     ]
    },
    {
     "data": {
      "text/html": [
       "<div>\n",
       "<style scoped>\n",
       "    .dataframe tbody tr th:only-of-type {\n",
       "        vertical-align: middle;\n",
       "    }\n",
       "\n",
       "    .dataframe tbody tr th {\n",
       "        vertical-align: top;\n",
       "    }\n",
       "\n",
       "    .dataframe thead th {\n",
       "        text-align: right;\n",
       "    }\n",
       "</style>\n",
       "<table border=\"1\" class=\"dataframe\">\n",
       "  <thead>\n",
       "    <tr style=\"text-align: right;\">\n",
       "      <th></th>\n",
       "      <th>startTime</th>\n",
       "      <th>endTime</th>\n",
       "    </tr>\n",
       "  </thead>\n",
       "  <tbody>\n",
       "    <tr>\n",
       "      <th>0</th>\n",
       "      <td>2015-11-01 20:20:16</td>\n",
       "      <td>2015-11-03 23:47:32</td>\n",
       "    </tr>\n",
       "    <tr>\n",
       "      <th>1</th>\n",
       "      <td>2015-11-04 14:04:51</td>\n",
       "      <td>2015-11-04 18:26:08</td>\n",
       "    </tr>\n",
       "    <tr>\n",
       "      <th>2</th>\n",
       "      <td>2015-11-05 11:06:59</td>\n",
       "      <td>2015-11-09 02:44:31</td>\n",
       "    </tr>\n",
       "    <tr>\n",
       "      <th>3</th>\n",
       "      <td>2015-11-09 12:30:09</td>\n",
       "      <td>2015-11-09 19:23:32</td>\n",
       "    </tr>\n",
       "    <tr>\n",
       "      <th>4</th>\n",
       "      <td>2015-11-10 00:04:50</td>\n",
       "      <td>2015-11-15 23:03:06</td>\n",
       "    </tr>\n",
       "  </tbody>\n",
       "</table>\n",
       "</div>"
      ],
      "text/plain": [
       "            startTime             endTime\n",
       "0 2015-11-01 20:20:16 2015-11-03 23:47:32\n",
       "1 2015-11-04 14:04:51 2015-11-04 18:26:08\n",
       "2 2015-11-05 11:06:59 2015-11-09 02:44:31\n",
       "3 2015-11-09 12:30:09 2015-11-09 19:23:32\n",
       "4 2015-11-10 00:04:50 2015-11-15 23:03:06"
      ]
     },
     "execution_count": 8,
     "metadata": {},
     "output_type": "execute_result"
    }
   ],
   "source": [
    "import pandas as pd\n",
    "\n",
    "normalTime_df = pd.read_csv('normal.csv', parse_dates=['startTime', 'endTime'])\n",
    "print(normalTime_df.shape)\n",
    "normalTime_df.head()"
   ]
  },
  {
   "cell_type": "code",
   "execution_count": 9,
   "metadata": {},
   "outputs": [
    {
     "name": "stdout",
     "output_type": "stream",
     "text": [
      "(29, 2)\n"
     ]
    },
    {
     "data": {
      "text/html": [
       "<div>\n",
       "<style scoped>\n",
       "    .dataframe tbody tr th:only-of-type {\n",
       "        vertical-align: middle;\n",
       "    }\n",
       "\n",
       "    .dataframe tbody tr th {\n",
       "        vertical-align: top;\n",
       "    }\n",
       "\n",
       "    .dataframe thead th {\n",
       "        text-align: right;\n",
       "    }\n",
       "</style>\n",
       "<table border=\"1\" class=\"dataframe\">\n",
       "  <thead>\n",
       "    <tr style=\"text-align: right;\">\n",
       "      <th></th>\n",
       "      <th>startTime</th>\n",
       "      <th>endTime</th>\n",
       "    </tr>\n",
       "  </thead>\n",
       "  <tbody>\n",
       "    <tr>\n",
       "      <th>0</th>\n",
       "      <td>2015-11-04 21:37:06</td>\n",
       "      <td>2015-11-04 22:29:33</td>\n",
       "    </tr>\n",
       "    <tr>\n",
       "      <th>1</th>\n",
       "      <td>2015-11-09 04:43:09</td>\n",
       "      <td>2015-11-09 06:35:39</td>\n",
       "    </tr>\n",
       "    <tr>\n",
       "      <th>2</th>\n",
       "      <td>2015-11-09 21:21:52</td>\n",
       "      <td>2015-11-09 23:14:41</td>\n",
       "    </tr>\n",
       "    <tr>\n",
       "      <th>3</th>\n",
       "      <td>2015-11-16 03:51:54</td>\n",
       "      <td>2015-11-16 11:06:26</td>\n",
       "    </tr>\n",
       "    <tr>\n",
       "      <th>4</th>\n",
       "      <td>2015-11-16 14:15:53</td>\n",
       "      <td>2015-11-16 16:08:25</td>\n",
       "    </tr>\n",
       "  </tbody>\n",
       "</table>\n",
       "</div>"
      ],
      "text/plain": [
       "            startTime             endTime\n",
       "0 2015-11-04 21:37:06 2015-11-04 22:29:33\n",
       "1 2015-11-09 04:43:09 2015-11-09 06:35:39\n",
       "2 2015-11-09 21:21:52 2015-11-09 23:14:41\n",
       "3 2015-11-16 03:51:54 2015-11-16 11:06:26\n",
       "4 2015-11-16 14:15:53 2015-11-16 16:08:25"
      ]
     },
     "execution_count": 9,
     "metadata": {},
     "output_type": "execute_result"
    }
   ],
   "source": [
    "import pandas as pd\n",
    "\n",
    "failureTime_df = pd.read_csv('failure.csv', parse_dates=['startTime', 'endTime'])\n",
    "print(failureTime_df.shape)\n",
    "failureTime_df.head()"
   ]
  },
  {
   "cell_type": "code",
   "execution_count": 10,
   "metadata": {},
   "outputs": [
    {
     "name": "stdout",
     "output_type": "stream",
     "text": [
      "(4756, 28)\n",
      "(971, 28)\n",
      "(43020, 28)\n",
      "(3383, 28)\n",
      "(39486, 28)\n",
      "(35032, 28)\n",
      "(14016, 28)\n",
      "(2120, 28)\n",
      "(29550, 28)\n",
      "(1321, 28)\n",
      "(3212, 28)\n",
      "(13254, 28)\n",
      "(6513, 28)\n",
      "(681, 28)\n",
      "(12049, 28)\n",
      "(2967, 28)\n",
      "(19126, 28)\n",
      "(561, 28)\n",
      "(132, 28)\n",
      "(2588, 28)\n",
      "(15450, 28)\n",
      "(18678, 28)\n",
      "(5026, 28)\n",
      "(20051, 28)\n",
      "(8584, 28)\n",
      "(47728, 28)\n"
     ]
    },
    {
     "data": {
      "text/plain": [
       "(350255, 28)"
      ]
     },
     "execution_count": 10,
     "metadata": {},
     "output_type": "execute_result"
    }
   ],
   "source": [
    "import pandas as pd\n",
    "\n",
    "normal_list = []\n",
    "for index in normalTime_df.index:\n",
    "    startTime = normalTime_df.loc[index].startTime\n",
    "    endTime = normalTime_df.loc[index].endTime\n",
    "    part_df = data_df[data_df.time.between(startTime, endTime)]\n",
    "    print(part_df.shape)\n",
    "    normal_list.append(part_df)\n",
    "normal_df = pd.concat(normal_list).reset_index(drop=True)\n",
    "normal_df.shape"
   ]
  },
  {
   "cell_type": "code",
   "execution_count": 11,
   "metadata": {},
   "outputs": [
    {
     "name": "stdout",
     "output_type": "stream",
     "text": [
      "(443, 28)\n",
      "(265, 28)\n",
      "(951, 28)\n",
      "(1150, 28)\n",
      "(951, 28)\n",
      "(106, 28)\n",
      "(352, 28)\n",
      "(951, 28)\n",
      "(951, 28)\n",
      "(1286, 28)\n",
      "(951, 28)\n",
      "(1254, 28)\n",
      "(148, 28)\n",
      "(951, 28)\n",
      "(616, 28)\n",
      "(951, 28)\n",
      "(951, 28)\n",
      "(797, 28)\n",
      "(951, 28)\n",
      "(951, 28)\n",
      "(1244, 28)\n",
      "(909, 28)\n",
      "(546, 28)\n",
      "(951, 28)\n",
      "(592, 28)\n",
      "(870, 28)\n",
      "(951, 28)\n",
      "(951, 28)\n",
      "(951, 28)\n"
     ]
    },
    {
     "data": {
      "text/plain": [
       "(23892, 28)"
      ]
     },
     "execution_count": 11,
     "metadata": {},
     "output_type": "execute_result"
    }
   ],
   "source": [
    "import pandas as pd\n",
    "\n",
    "failure_list = []\n",
    "for index in failureTime_df.index:\n",
    "    startTime = failureTime_df.loc[index].startTime\n",
    "    endTime = failureTime_df.loc[index].endTime\n",
    "    part_df = data_df[data_df.time.between(startTime, endTime)]\n",
    "    print(part_df.shape)\n",
    "    failure_list.append(part_df)\n",
    "failure_df = pd.concat(failure_list).reset_index(drop=True)\n",
    "failure_df.shape"
   ]
  },
  {
   "cell_type": "code",
   "execution_count": 12,
   "metadata": {},
   "outputs": [
    {
     "data": {
      "text/html": [
       "<div>\n",
       "<style scoped>\n",
       "    .dataframe tbody tr th:only-of-type {\n",
       "        vertical-align: middle;\n",
       "    }\n",
       "\n",
       "    .dataframe tbody tr th {\n",
       "        vertical-align: top;\n",
       "    }\n",
       "\n",
       "    .dataframe thead th {\n",
       "        text-align: right;\n",
       "    }\n",
       "</style>\n",
       "<table border=\"1\" class=\"dataframe\">\n",
       "  <thead>\n",
       "    <tr style=\"text-align: right;\">\n",
       "      <th></th>\n",
       "      <th>number</th>\n",
       "      <th>ratio</th>\n",
       "    </tr>\n",
       "  </thead>\n",
       "  <tbody>\n",
       "    <tr>\n",
       "      <th>normal</th>\n",
       "      <td>350255</td>\n",
       "      <td>0.889229</td>\n",
       "    </tr>\n",
       "    <tr>\n",
       "      <th>failure</th>\n",
       "      <td>23892</td>\n",
       "      <td>0.060657</td>\n",
       "    </tr>\n",
       "    <tr>\n",
       "      <th>invalid</th>\n",
       "      <td>19739</td>\n",
       "      <td>0.050113</td>\n",
       "    </tr>\n",
       "  </tbody>\n",
       "</table>\n",
       "</div>"
      ],
      "text/plain": [
       "         number     ratio\n",
       "normal   350255  0.889229\n",
       "failure   23892  0.060657\n",
       "invalid   19739  0.050113"
      ]
     },
     "execution_count": 12,
     "metadata": {},
     "output_type": "execute_result"
    }
   ],
   "source": [
    "stat_df = pd.DataFrame({\n",
    "    'number' : [normal_df.shape[0], failure_df.shape[0], data_df.shape[0]-normal_df.shape[0]-failure_df.shape[0]]\n",
    "}, index = ['normal', 'failure', 'invalid'])\n",
    "stat_df['ratio'] = stat_df['number'] / stat_df['number'].sum()\n",
    "stat_df"
   ]
  },
  {
   "cell_type": "code",
   "execution_count": 13,
   "metadata": {},
   "outputs": [
    {
     "data": {
      "text/plain": [
       "(47784, 28)"
      ]
     },
     "execution_count": 13,
     "metadata": {},
     "output_type": "execute_result"
    }
   ],
   "source": [
    "import random\n",
    "\n",
    "normalPart_df = normal_df.loc[random.sample(list(normal_df.index), k=failure_df.shape[0]*2)]\n",
    "normalPart_df.shape"
   ]
  },
  {
   "cell_type": "code",
   "execution_count": 14,
   "metadata": {},
   "outputs": [
    {
     "name": "stdout",
     "output_type": "stream",
     "text": [
      "(71676, 27)\n",
      "(71676,)\n"
     ]
    }
   ],
   "source": [
    "import numpy as np\n",
    "\n",
    "feature_df = pd.concat([normalPart_df, failure_df]).reset_index(drop=True)\n",
    "X = feature_df.drop('time', axis=1).values\n",
    "print(X.shape)\n",
    "y = np.append(np.ones(len(normalPart_df)), np.zeros(len(failure_df)))\n",
    "print(y.shape)"
   ]
  },
  {
   "cell_type": "code",
   "execution_count": 15,
   "metadata": {},
   "outputs": [],
   "source": [
    "import pickle\n",
    "\n",
    "with open('X.pickle', 'wb') as file:\n",
    "    pickle.dump(X, file)\n",
    "\n",
    "with open('y.pickle', 'wb') as file:\n",
    "    pickle.dump(y, file)"
   ]
  },
  {
   "cell_type": "code",
   "execution_count": 16,
   "metadata": {},
   "outputs": [],
   "source": [
    "import pickle\n",
    "\n",
    "with open('X.pickle', 'rb') as file:\n",
    "    X = pickle.load(file)\n",
    "    \n",
    "with open('y.pickle', 'rb') as file:\n",
    "    y = pickle.load(file)"
   ]
  },
  {
   "cell_type": "code",
   "execution_count": 17,
   "metadata": {},
   "outputs": [
    {
     "name": "stderr",
     "output_type": "stream",
     "text": [
      "C:\\Programs\\Anaconda3\\lib\\site-packages\\sklearn\\ensemble\\forest.py:246: FutureWarning: The default value of n_estimators will change from 10 in version 0.20 to 100 in 0.22.\n",
      "  \"10 in version 0.20 to 100 in 0.22.\", FutureWarning)\n",
      "C:\\Programs\\Anaconda3\\lib\\site-packages\\sklearn\\ensemble\\forest.py:246: FutureWarning: The default value of n_estimators will change from 10 in version 0.20 to 100 in 0.22.\n",
      "  \"10 in version 0.20 to 100 in 0.22.\", FutureWarning)\n",
      "C:\\Programs\\Anaconda3\\lib\\site-packages\\sklearn\\ensemble\\forest.py:246: FutureWarning: The default value of n_estimators will change from 10 in version 0.20 to 100 in 0.22.\n",
      "  \"10 in version 0.20 to 100 in 0.22.\", FutureWarning)\n",
      "C:\\Programs\\Anaconda3\\lib\\site-packages\\sklearn\\ensemble\\forest.py:246: FutureWarning: The default value of n_estimators will change from 10 in version 0.20 to 100 in 0.22.\n",
      "  \"10 in version 0.20 to 100 in 0.22.\", FutureWarning)\n",
      "C:\\Programs\\Anaconda3\\lib\\site-packages\\sklearn\\ensemble\\forest.py:246: FutureWarning: The default value of n_estimators will change from 10 in version 0.20 to 100 in 0.22.\n",
      "  \"10 in version 0.20 to 100 in 0.22.\", FutureWarning)\n"
     ]
    },
    {
     "name": "stdout",
     "output_type": "stream",
     "text": [
      "[1.     0.9997 0.9999 1.     0.9999]\n",
      "0.9999\n"
     ]
    }
   ],
   "source": [
    "from sklearn.ensemble import RandomForestClassifier\n",
    "from sklearn.model_selection import ShuffleSplit\n",
    "from sklearn.model_selection import cross_val_score\n",
    "\n",
    "rfc_model = RandomForestClassifier(n_jobs=-1)\n",
    "cv_split = ShuffleSplit(n_splits=5)\n",
    "score_ndarray = cross_val_score(rfc_model, X, y, cv=cv_split)\n",
    "print(score_ndarray.round(4))\n",
    "print(score_ndarray.mean().round(4))"
   ]
  },
  {
   "cell_type": "code",
   "execution_count": 18,
   "metadata": {},
   "outputs": [
    {
     "name": "stdout",
     "output_type": "stream",
     "text": [
      "[0.9775 0.9828 0.9802 0.9792 0.9795]\n",
      "0.9799\n"
     ]
    }
   ],
   "source": [
    "from xgboost import XGBClassifier\n",
    "from sklearn.model_selection import ShuffleSplit\n",
    "from sklearn.model_selection import cross_val_score\n",
    "import warnings\n",
    "\n",
    "warnings.filterwarnings('ignore')\n",
    "xgb_model = XGBClassifier(nthread=8)\n",
    "cv_split = ShuffleSplit(n_splits=5)\n",
    "score_ndarray = cross_val_score(xgb_model, X, y, cv=cv_split)\n",
    "print(score_ndarray.round(4))\n",
    "print(score_ndarray.mean().round(4))"
   ]
  },
  {
   "cell_type": "code",
   "execution_count": 19,
   "metadata": {},
   "outputs": [
    {
     "data": {
      "text/plain": [
       "0.9799"
      ]
     },
     "execution_count": 19,
     "metadata": {},
     "output_type": "execute_result"
    }
   ],
   "source": [
    "score_ndarray.mean().round(4)"
   ]
  },
  {
   "cell_type": "code",
   "execution_count": 20,
   "metadata": {},
   "outputs": [
    {
     "data": {
      "text/plain": [
       "0.9826"
      ]
     },
     "execution_count": 20,
     "metadata": {},
     "output_type": "execute_result"
    }
   ],
   "source": [
    "from sklearn.model_selection import train_test_split\n",
    "from xgboost import XGBClassifier\n",
    "\n",
    "train_X, test_X, train_y, test_y = train_test_split(X, y, test_size=0.2)\n",
    "xgb_model = XGBClassifier(thread=8)\n",
    "xgb_model.fit(train_X, train_y)\n",
    "xgb_model.score(test_X, test_y).round(4)"
   ]
  },
  {
   "cell_type": "code",
   "execution_count": 21,
   "metadata": {},
   "outputs": [
    {
     "data": {
      "text/html": [
       "<div>\n",
       "<style scoped>\n",
       "    .dataframe tbody tr th:only-of-type {\n",
       "        vertical-align: middle;\n",
       "    }\n",
       "\n",
       "    .dataframe tbody tr th {\n",
       "        vertical-align: top;\n",
       "    }\n",
       "\n",
       "    .dataframe thead th {\n",
       "        text-align: right;\n",
       "    }\n",
       "</style>\n",
       "<table border=\"1\" class=\"dataframe\">\n",
       "  <thead>\n",
       "    <tr style=\"text-align: right;\">\n",
       "      <th></th>\n",
       "      <th>故障</th>\n",
       "      <th>正常</th>\n",
       "    </tr>\n",
       "  </thead>\n",
       "  <tbody>\n",
       "    <tr>\n",
       "      <th>故障</th>\n",
       "      <td>4732</td>\n",
       "      <td>83</td>\n",
       "    </tr>\n",
       "    <tr>\n",
       "      <th>正常</th>\n",
       "      <td>167</td>\n",
       "      <td>9354</td>\n",
       "    </tr>\n",
       "  </tbody>\n",
       "</table>\n",
       "</div>"
      ],
      "text/plain": [
       "      故障    正常\n",
       "故障  4732    83\n",
       "正常   167  9354"
      ]
     },
     "execution_count": 21,
     "metadata": {},
     "output_type": "execute_result"
    }
   ],
   "source": [
    "from sklearn.metrics import confusion_matrix\n",
    "\n",
    "predict_y = xgb_model.predict(test_X)\n",
    "labels = ['故障', '正常']\n",
    "pd.DataFrame(confusion_matrix(test_y, predict_y), columns=labels, index=labels)"
   ]
  },
  {
   "cell_type": "code",
   "execution_count": 22,
   "metadata": {},
   "outputs": [
    {
     "data": {
      "text/html": [
       "<div>\n",
       "<style scoped>\n",
       "    .dataframe tbody tr th:only-of-type {\n",
       "        vertical-align: middle;\n",
       "    }\n",
       "\n",
       "    .dataframe tbody tr th {\n",
       "        vertical-align: top;\n",
       "    }\n",
       "\n",
       "    .dataframe thead th {\n",
       "        text-align: right;\n",
       "    }\n",
       "</style>\n",
       "<table border=\"1\" class=\"dataframe\">\n",
       "  <thead>\n",
       "    <tr style=\"text-align: right;\">\n",
       "      <th></th>\n",
       "      <th>Label</th>\n",
       "      <th>Precision</th>\n",
       "      <th>Recall</th>\n",
       "      <th>F1</th>\n",
       "      <th>Support</th>\n",
       "    </tr>\n",
       "  </thead>\n",
       "  <tbody>\n",
       "    <tr>\n",
       "      <th>0</th>\n",
       "      <td>故障</td>\n",
       "      <td>0.965911</td>\n",
       "      <td>0.982762</td>\n",
       "      <td>0.974264</td>\n",
       "      <td>4815</td>\n",
       "    </tr>\n",
       "    <tr>\n",
       "      <th>1</th>\n",
       "      <td>正常</td>\n",
       "      <td>0.991205</td>\n",
       "      <td>0.982460</td>\n",
       "      <td>0.986813</td>\n",
       "      <td>9521</td>\n",
       "    </tr>\n",
       "    <tr>\n",
       "      <th>999</th>\n",
       "      <td>总体</td>\n",
       "      <td>0.982710</td>\n",
       "      <td>0.982561</td>\n",
       "      <td>0.982598</td>\n",
       "      <td>14336</td>\n",
       "    </tr>\n",
       "  </tbody>\n",
       "</table>\n",
       "</div>"
      ],
      "text/plain": [
       "    Label  Precision    Recall        F1  Support\n",
       "0      故障   0.965911  0.982762  0.974264     4815\n",
       "1      正常   0.991205  0.982460  0.986813     9521\n",
       "999    总体   0.982710  0.982561  0.982598    14336"
      ]
     },
     "execution_count": 22,
     "metadata": {},
     "output_type": "execute_result"
    }
   ],
   "source": [
    "from sklearn.metrics import precision_recall_fscore_support\n",
    "import numpy as np\n",
    "\n",
    "def eval_model(y_true, y_pred, labels):\n",
    "    # 计算每个分类的Precision, Recall, f1, support\n",
    "    p, r, f1, s = precision_recall_fscore_support(y_true, y_pred)\n",
    "    # 计算总体的平均Precision, Recall, f1, support\n",
    "    tot_p = np.average(p, weights=s)\n",
    "    tot_r = np.average(r, weights=s)\n",
    "    tot_f1 = np.average(f1, weights=s)\n",
    "    tot_s = np.sum(s)\n",
    "    res1 = pd.DataFrame({\n",
    "        u'Label': labels,\n",
    "        u'Precision': p,\n",
    "        u'Recall': r,\n",
    "        u'F1': f1,\n",
    "        u'Support': s\n",
    "    })\n",
    "    res2 = pd.DataFrame({\n",
    "        u'Label': ['总体'],\n",
    "        u'Precision': [tot_p],\n",
    "        u'Recall': [tot_r],\n",
    "        u'F1': [tot_f1],\n",
    "        u'Support': [tot_s]\n",
    "    })\n",
    "    res2.index = [999]\n",
    "    res = pd.concat([res1, res2])\n",
    "    return res[['Label', 'Precision', 'Recall', 'F1', 'Support']]\n",
    "\n",
    "eval_model(test_y, predict_y, labels)"
   ]
  },
  {
   "cell_type": "code",
   "execution_count": 23,
   "metadata": {},
   "outputs": [
    {
     "data": {
      "text/plain": [
       "<Figure size 640x480 with 1 Axes>"
      ]
     },
     "metadata": {},
     "output_type": "display_data"
    }
   ],
   "source": [
    "from sklearn.metrics import roc_curve\n",
    "\n",
    "predict_y_probability = xgb_model.predict_proba(X)\n",
    "false_predict, true_predict, thresholds = roc_curve(y, predict_y_probability[:,1])\n",
    "\n",
    "import matplotlib.pyplot as plt \n",
    "\n",
    "plt.plot([0,1], [0,1], 'k--')\n",
    "plt.plot(false_predict, true_predict, label='xgboost')\n",
    "plt.legend()\n",
    "plt.title('ROC curve')\n",
    "plt.xlabel('False positive rate')\n",
    "plt.ylabel('True positive rate')\n",
    "plt.show()"
   ]
  },
  {
   "cell_type": "code",
   "execution_count": 24,
   "metadata": {},
   "outputs": [],
   "source": [
    "import pickle\n",
    "\n",
    "with open('xgb_model.pickle', 'wb') as file:\n",
    "    pickle.dump(xgb_model, file)"
   ]
  },
  {
   "cell_type": "code",
   "execution_count": 25,
   "metadata": {},
   "outputs": [],
   "source": [
    "import pickle\n",
    "\n",
    "with open('xgb_model.pickle', 'rb') as file:\n",
    "    xgb_model = pickle.load(file)"
   ]
  },
  {
   "cell_type": "code",
   "execution_count": null,
   "metadata": {},
   "outputs": [],
   "source": []
  },
  {
   "cell_type": "code",
   "execution_count": 26,
   "metadata": {},
   "outputs": [
    {
     "name": "stdout",
     "output_type": "stream",
     "text": [
      "(179567, 27)\n",
      "(179567,)\n"
     ]
    }
   ],
   "source": [
    "test_df = pd.read_csv('data_test.csv', index_col=0)\n",
    "exam_y = test_df['clf'].values\n",
    "exam_X = test_df.drop(['time', 'clf'], axis=1).values\n",
    "exam_X = exam_X[exam_y<2]\n",
    "print(exam_X.shape)\n",
    "exam_y = exam_y[exam_y<2]\n",
    "print(exam_y.shape)"
   ]
  },
  {
   "cell_type": "code",
   "execution_count": 27,
   "metadata": {},
   "outputs": [
    {
     "data": {
      "text/plain": [
       "1    168929\n",
       "2     10927\n",
       "0     10638\n",
       "Name: clf, dtype: int64"
      ]
     },
     "execution_count": 27,
     "metadata": {},
     "output_type": "execute_result"
    }
   ],
   "source": [
    "test_df['clf'].value_counts()"
   ]
  },
  {
   "cell_type": "code",
   "execution_count": 28,
   "metadata": {},
   "outputs": [
    {
     "data": {
      "text/html": [
       "<div>\n",
       "<style scoped>\n",
       "    .dataframe tbody tr th:only-of-type {\n",
       "        vertical-align: middle;\n",
       "    }\n",
       "\n",
       "    .dataframe tbody tr th {\n",
       "        vertical-align: top;\n",
       "    }\n",
       "\n",
       "    .dataframe thead th {\n",
       "        text-align: right;\n",
       "    }\n",
       "</style>\n",
       "<table border=\"1\" class=\"dataframe\">\n",
       "  <thead>\n",
       "    <tr style=\"text-align: right;\">\n",
       "      <th></th>\n",
       "      <th>Label</th>\n",
       "      <th>Precision</th>\n",
       "      <th>Recall</th>\n",
       "      <th>F1</th>\n",
       "      <th>Support</th>\n",
       "    </tr>\n",
       "  </thead>\n",
       "  <tbody>\n",
       "    <tr>\n",
       "      <th>0</th>\n",
       "      <td>故障</td>\n",
       "      <td>0.409938</td>\n",
       "      <td>0.260575</td>\n",
       "      <td>0.318621</td>\n",
       "      <td>10638</td>\n",
       "    </tr>\n",
       "    <tr>\n",
       "      <th>1</th>\n",
       "      <td>正常</td>\n",
       "      <td>0.954480</td>\n",
       "      <td>0.976381</td>\n",
       "      <td>0.965306</td>\n",
       "      <td>168929</td>\n",
       "    </tr>\n",
       "    <tr>\n",
       "      <th>999</th>\n",
       "      <td>总体</td>\n",
       "      <td>0.922220</td>\n",
       "      <td>0.933975</td>\n",
       "      <td>0.926995</td>\n",
       "      <td>179567</td>\n",
       "    </tr>\n",
       "  </tbody>\n",
       "</table>\n",
       "</div>"
      ],
      "text/plain": [
       "    Label  Precision    Recall        F1  Support\n",
       "0      故障   0.409938  0.260575  0.318621    10638\n",
       "1      正常   0.954480  0.976381  0.965306   168929\n",
       "999    总体   0.922220  0.933975  0.926995   179567"
      ]
     },
     "execution_count": 28,
     "metadata": {},
     "output_type": "execute_result"
    }
   ],
   "source": [
    "from sklearn.metrics import precision_recall_fscore_support\n",
    "import numpy as np\n",
    "\n",
    "def eval_model(y_true, y_pred, labels):\n",
    "    # 计算每个分类的Precision, Recall, f1, support\n",
    "    p, r, f1, s = precision_recall_fscore_support(y_true, y_pred)\n",
    "    # 计算总体的平均Precision, Recall, f1, support\n",
    "    tot_p = np.average(p, weights=s)\n",
    "    tot_r = np.average(r, weights=s)\n",
    "    tot_f1 = np.average(f1, weights=s)\n",
    "    tot_s = np.sum(s)\n",
    "    res1 = pd.DataFrame({\n",
    "        u'Label': labels,\n",
    "        u'Precision': p,\n",
    "        u'Recall': r,\n",
    "        u'F1': f1,\n",
    "        u'Support': s\n",
    "    })\n",
    "    res2 = pd.DataFrame({\n",
    "        u'Label': ['总体'],\n",
    "        u'Precision': [tot_p],\n",
    "        u'Recall': [tot_r],\n",
    "        u'F1': [tot_f1],\n",
    "        u'Support': [tot_s]\n",
    "    })\n",
    "    res2.index = [999]\n",
    "    res = pd.concat([res1, res2])\n",
    "    return res[['Label', 'Precision', 'Recall', 'F1', 'Support']]\n",
    "\n",
    "predict_exam_y = xgb_model.predict(exam_X)\n",
    "labels = ['故障', '正常']\n",
    "eval_model(exam_y, predict_exam_y, labels)"
   ]
  },
  {
   "cell_type": "code",
   "execution_count": null,
   "metadata": {},
   "outputs": [],
   "source": []
  }
 ],
 "metadata": {
  "kernelspec": {
   "display_name": "Python 3",
   "language": "python",
   "name": "python3"
  },
  "language_info": {
   "codemirror_mode": {
    "name": "ipython",
    "version": 3
   },
   "file_extension": ".py",
   "mimetype": "text/x-python",
   "name": "python",
   "nbconvert_exporter": "python",
   "pygments_lexer": "ipython3",
   "version": "3.7.1"
  }
 },
 "nbformat": 4,
 "nbformat_minor": 2
}
