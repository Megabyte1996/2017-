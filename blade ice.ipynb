{
 "cells": [
  {
   "cell_type": "markdown",
   "metadata": {},
   "source": [
    "练习对时间序列的操作\n",
    "\n",
    "数据集说明：\n",
    "\n",
    "data.csv：风机叶片数据集，包含time和其他27个特征。其中time是每一条数据的时间，需要依据下面两个时间表，对每一条数据是故障或是正常或是无效数据进行判断。\n",
    "\n",
    "failure.csv：故障风机叶片时间数据，可以据此确定15_data中每一条故障数据的标签。\n",
    "\n",
    "normal.csv：正常工作风机叶片时间数据，可以据此确定15_data中每一条正常工作数据的标签。"
   ]
  },
  {
   "cell_type": "markdown",
   "metadata": {},
   "source": [
    "叶片预测数据集中需要解决的问题：\n",
    "\n",
    "样本中存在停机、人为删除数据、无效数据等，会造成某些时间段的数据缺失 ，如何对缺失数据与数据不均匀问题进行处理？此外，叶片正常(normalInfo)与结冰故障(failureInfo)数据不均衡，该如何处理？\n",
    "\n",
    "选取哪些特征用于模型预测？\n",
    "\n",
    "何种训练模型比较适合本问题？"
   ]
  },
  {
   "cell_type": "markdown",
   "metadata": {},
   "source": [
    "在建立预测分类模型的时候，需要考虑风机结冰数据的类 不平衡问题。一般来说，对数据进行重采样能够有效降低类不 平衡带来的建模误差。将结冰样本进行过采样，将非结冰样本 进行欠采样，或者两者同时进行，以达到结冰和非结冰样本在 模型训练时有基本相近的比例。\n",
    "\n",
    "如果我们能从序列数据中提取出易于分类的特征，就能够 准确地检测早期结冰。因此，在设计预测模型时，不仅要提供 瞬态特征，还要利用滑动窗提取给定长度下的统计特征。这些 统计特征能够很好地反映这一段序列数据的演化规律和状态， 因此能够更好的发现早期结冰。\n",
    "\n",
    "我们根据训练数据中的 group 维度随机 地删除部分非结冰数据以及结冰严重数据，经过剔除数据处理， 正负样本所占比依然存在很大的差异，这种数据不平衡会对模 型最终的叶片结冰预测有非常大的影响，一般处理方式有三种:\n",
    "\n",
    "欠采样、过采样、在模型 loss 函数中增加惩罚项以及模型集成。由于我们想尽可能的保留原始数据，因此选择第三种方法， 并且选取了更加适合此种情况的评价函数。"
   ]
  },
  {
   "cell_type": "code",
   "execution_count": 4,
   "metadata": {},
   "outputs": [],
   "source": [
    "import pandas as pd \n",
    "import numpy as np\n",
    "import pickle\n",
    "\n",
    "data = pd.read_csv('data.csv')\n",
    "fail_data = pd.read_csv('failure.csv')\n",
    "normal_data = pd.read_csv('normal.csv')\n"
   ]
  },
  {
   "cell_type": "code",
   "execution_count": 5,
   "metadata": {},
   "outputs": [
    {
     "name": "stdout",
     "output_type": "stream",
     "text": [
      "sum of data:393886\n"
     ]
    }
   ],
   "source": [
    "total = len(data)\n",
    "print('sum of data:%d'%total)\n",
    "des = data.describe()\n"
   ]
  },
  {
   "cell_type": "code",
   "execution_count": 11,
   "metadata": {},
   "outputs": [
    {
     "data": {
      "text/plain": [
       "pandas.core.frame.DataFrame"
      ]
     },
     "execution_count": 11,
     "metadata": {},
     "output_type": "execute_result"
    }
   ],
   "source": [
    "type(data)"
   ]
  },
  {
   "cell_type": "markdown",
   "metadata": {},
   "source": [
    "对时间标签做处理，分类出label:\n",
    "\n",
    "label = 1: 故障时间区域\n",
    "\n",
    "label = 0: 正常时间区域\n",
    "\n",
    "label = -1:无效数据\n",
    "\n",
    "在很多情况下，我们的原始数据中的时间和日期并不是时间类型的，例如excel中可能是Unicode，csv中可能是Str。因此我们在进行时间切片之前首先要将非时间类型的时间数据转换为时间类型。"
   ]
  },
  {
   "cell_type": "code",
   "execution_count": 12,
   "metadata": {},
   "outputs": [
    {
     "name": "stdout",
     "output_type": "stream",
     "text": [
      "complete 0 / 393886\n",
      "complete 10000 / 393886\n",
      "complete 20000 / 393886\n",
      "complete 30000 / 393886\n",
      "complete 40000 / 393886\n",
      "complete 50000 / 393886\n",
      "complete 60000 / 393886\n",
      "complete 70000 / 393886\n",
      "complete 80000 / 393886\n",
      "complete 90000 / 393886\n",
      "complete 100000 / 393886\n",
      "complete 110000 / 393886\n",
      "complete 120000 / 393886\n",
      "complete 130000 / 393886\n",
      "complete 140000 / 393886\n",
      "complete 150000 / 393886\n",
      "complete 160000 / 393886\n",
      "complete 170000 / 393886\n",
      "complete 180000 / 393886\n",
      "complete 190000 / 393886\n",
      "complete 200000 / 393886\n",
      "complete 210000 / 393886\n",
      "complete 220000 / 393886\n",
      "complete 230000 / 393886\n",
      "complete 240000 / 393886\n",
      "complete 250000 / 393886\n",
      "complete 260000 / 393886\n",
      "complete 270000 / 393886\n",
      "complete 280000 / 393886\n",
      "complete 290000 / 393886\n",
      "complete 300000 / 393886\n",
      "complete 310000 / 393886\n",
      "complete 320000 / 393886\n",
      "complete 330000 / 393886\n",
      "complete 340000 / 393886\n",
      "complete 350000 / 393886\n",
      "complete 360000 / 393886\n",
      "complete 370000 / 393886\n",
      "complete 380000 / 393886\n",
      "complete 390000 / 393886\n"
     ]
    }
   ],
   "source": [
    "times = []\n",
    "for i in range(total):\n",
    "    dt = pd.to_datetime(data.iloc[i][0])\n",
    "    times.append(dt)\n",
    "    if(i%10000 == 0):\n",
    "        print('complete %d / %d' %(i,len(data)))\n",
    "times = pd.Series(times)\n",
    "data.time = times\n"
   ]
  },
  {
   "cell_type": "code",
   "execution_count": 25,
   "metadata": {},
   "outputs": [
    {
     "data": {
      "text/plain": [
       "0        2015-11-01 20:20:16\n",
       "1        2015-11-01 20:20:23\n",
       "2        2015-11-01 20:20:30\n",
       "3        2015-11-01 20:20:37\n",
       "4        2015-11-01 20:20:47\n",
       "5        2015-11-01 20:20:54\n",
       "6        2015-11-01 20:21:01\n",
       "7        2015-11-01 20:21:08\n",
       "8        2015-11-01 20:21:15\n",
       "9        2015-11-01 20:21:22\n",
       "10       2015-11-01 20:21:29\n",
       "11       2015-11-01 20:21:36\n",
       "12       2015-11-01 20:21:43\n",
       "13       2015-11-01 20:21:50\n",
       "14       2015-11-01 20:21:57\n",
       "15       2015-11-01 20:22:04\n",
       "16       2015-11-01 20:22:11\n",
       "17       2015-11-01 20:22:18\n",
       "18       2015-11-01 20:22:25\n",
       "19       2015-11-01 20:22:32\n",
       "20       2015-11-01 20:22:39\n",
       "21       2015-11-01 20:22:49\n",
       "22       2015-11-01 20:22:56\n",
       "23       2015-11-01 20:23:03\n",
       "24       2015-11-01 20:23:10\n",
       "25       2015-11-01 20:23:17\n",
       "26       2015-11-01 20:23:24\n",
       "27       2015-11-01 20:23:31\n",
       "28       2015-11-01 20:23:38\n",
       "29       2015-11-01 20:23:45\n",
       "                 ...        \n",
       "393856   2016-01-01 21:34:36\n",
       "393857   2016-01-01 21:34:43\n",
       "393858   2016-01-01 21:34:50\n",
       "393859   2016-01-01 21:34:57\n",
       "393860   2016-01-01 21:35:04\n",
       "393861   2016-01-01 21:35:11\n",
       "393862   2016-01-01 21:35:18\n",
       "393863   2016-01-01 21:35:26\n",
       "393864   2016-01-01 21:35:33\n",
       "393865   2016-01-01 21:35:40\n",
       "393866   2016-01-01 21:35:47\n",
       "393867   2016-01-01 21:35:54\n",
       "393868   2016-01-01 21:36:01\n",
       "393869   2016-01-01 21:36:08\n",
       "393870   2016-01-01 21:36:15\n",
       "393871   2016-01-01 21:36:22\n",
       "393872   2016-01-01 21:36:29\n",
       "393873   2016-01-01 21:36:36\n",
       "393874   2016-01-01 21:36:43\n",
       "393875   2016-01-01 21:36:50\n",
       "393876   2016-01-01 21:36:57\n",
       "393877   2016-01-01 21:37:04\n",
       "393878   2016-01-01 21:37:11\n",
       "393879   2016-01-01 21:37:18\n",
       "393880   2016-01-01 21:37:25\n",
       "393881   2016-01-01 21:37:32\n",
       "393882   2016-01-01 21:37:39\n",
       "393883   2016-01-01 21:37:46\n",
       "393884   2016-01-01 21:37:53\n",
       "393885   2016-01-01 21:38:01\n",
       "Length: 393886, dtype: datetime64[ns]"
      ]
     },
     "execution_count": 25,
     "metadata": {},
     "output_type": "execute_result"
    }
   ],
   "source": [
    "times"
   ]
  },
  {
   "cell_type": "code",
   "execution_count": 22,
   "metadata": {},
   "outputs": [],
   "source": [
    "# 转化normal_data & fail_data时间列为datetime\n",
    "def to_datetime(obj_pd):\n",
    "    Ser1 = obj_pd.iloc[:,0]\n",
    "    Ser2 = obj_pd.iloc[:,1]\n",
    "    for i in range(len(Ser1)):\n",
    "        Ser1[i] = pd.to_datetime(Ser1[i])\n",
    "        Ser2[i] = pd.to_datetime(Ser2[i])\n",
    "    obj_pd.iloc[:,0] = Ser1\n",
    "    obj_pd.iloc[:,1] = Ser2\n",
    "    return obj_pd\n",
    "normal_data = to_datetime(normal_data)\n",
    "fail_data = to_datetime(fail_data)\n",
    "    "
   ]
  },
  {
   "cell_type": "markdown",
   "metadata": {},
   "source": [
    "根据datetime创建labels列表"
   ]
  },
  {
   "cell_type": "code",
   "execution_count": 27,
   "metadata": {},
   "outputs": [
    {
     "name": "stdout",
     "output_type": "stream",
     "text": [
      "complete 0 / 393886\n",
      "complete 10000 / 393886\n",
      "complete 20000 / 393886\n",
      "complete 30000 / 393886\n",
      "complete 40000 / 393886\n",
      "complete 50000 / 393886\n",
      "complete 60000 / 393886\n",
      "complete 70000 / 393886\n",
      "complete 80000 / 393886\n",
      "complete 90000 / 393886\n",
      "complete 100000 / 393886\n",
      "complete 110000 / 393886\n",
      "complete 120000 / 393886\n",
      "complete 130000 / 393886\n",
      "complete 140000 / 393886\n",
      "complete 150000 / 393886\n",
      "complete 160000 / 393886\n",
      "complete 170000 / 393886\n",
      "complete 180000 / 393886\n",
      "complete 190000 / 393886\n",
      "complete 200000 / 393886\n",
      "complete 210000 / 393886\n",
      "complete 220000 / 393886\n",
      "complete 230000 / 393886\n",
      "complete 240000 / 393886\n",
      "complete 250000 / 393886\n",
      "complete 260000 / 393886\n",
      "complete 270000 / 393886\n",
      "complete 280000 / 393886\n",
      "complete 290000 / 393886\n",
      "complete 300000 / 393886\n",
      "complete 310000 / 393886\n",
      "complete 320000 / 393886\n",
      "complete 330000 / 393886\n",
      "complete 340000 / 393886\n",
      "complete 350000 / 393886\n",
      "complete 360000 / 393886\n",
      "complete 370000 / 393886\n",
      "complete 380000 / 393886\n",
      "complete 390000 / 393886\n",
      "complete all\n"
     ]
    }
   ],
   "source": [
    "labels = []\n",
    "for i in range(len(times)):\n",
    "    if(i%10000==0):\n",
    "        print(\"complete %d / %d\" % (i,len(times)))\n",
    "    flag = 0\n",
    "    for j in range(len(normal_data)):\n",
    "        if((times[i] >= normal_data.startTime[j]) and (times[i] <= normal_data.endTime[j])):\n",
    "            labels.append(0)\n",
    "            flag = 1\n",
    "            break\n",
    "    for j in range(len(fail_data)):\n",
    "        if(flag==1):\n",
    "            break\n",
    "        elif((times[i] >= fail_data.startTime[j]) and (times[i] <= fail_data.endTime[j])):\n",
    "            labels.append(1)\n",
    "            flag = 1\n",
    "            break\n",
    "    if(flag == 1):\n",
    "        continue\n",
    "    labels.append(-1)\n",
    "print(\"complete all\")"
   ]
  },
  {
   "cell_type": "markdown",
   "metadata": {},
   "source": [
    "print 数据信息"
   ]
  },
  {
   "cell_type": "code",
   "execution_count": 34,
   "metadata": {},
   "outputs": [
    {
     "data": {
      "text/plain": [
       "list"
      ]
     },
     "execution_count": 34,
     "metadata": {},
     "output_type": "execute_result"
    }
   ],
   "source": [
    "type(labels)"
   ]
  },
  {
   "cell_type": "code",
   "execution_count": 33,
   "metadata": {},
   "outputs": [
    {
     "name": "stdout",
     "output_type": "stream",
     "text": [
      "sum of invalid data : 19739 , 5.01 %\n",
      "sum of normal data : 350255 , 88.92 % \n",
      "sum of failure data : 23892 , 6.07 % \n"
     ]
    }
   ],
   "source": [
    "def data_judge(labels,total):\n",
    "    sum_inv = 0\n",
    "    for i in range(len(labels)):\n",
    "        if(labels[i] == -1):\n",
    "            sum_inv = sum_inv + 1\n",
    "    print(\"sum of invalid data : %d , %.2f %%\" % (sum_inv,sum_inv/total*100))\n",
    "    \n",
    "    sum_nor = 0\n",
    "    for i in range(len(labels)):\n",
    "        if(labels[i] == 0):\n",
    "            sum_nor = sum_nor + 1\n",
    "    print(\"sum of normal data : %d , %.2f %% \" % (sum_nor,sum_nor/total*100))\n",
    "    \n",
    "    sum_fail = 0\n",
    "    for i in range(len(labels)):\n",
    "        if(labels[i] == 1):\n",
    "            sum_fail = sum_fail + 1\n",
    "    print(\"sum of failure data : %d , %.2f %% \" % (sum_fail,sum_fail/total*100))\n",
    "data_judge(labels,total)"
   ]
  },
  {
   "cell_type": "markdown",
   "metadata": {},
   "source": [
    "删除无效数据"
   ]
  },
  {
   "cell_type": "code",
   "execution_count": 35,
   "metadata": {},
   "outputs": [],
   "source": [
    "y=labels\n",
    "indexes =[]\n",
    "for i in range(len(y)):\n",
    "    if (y[i] == -1):\n",
    "        indexes.append(i)\n",
    "data = data.drop(indexes)\n",
    "data = data.drop('time',axis=1)\n",
    "for i in range(len(y)-1,-1,-1):\n",
    "    if(y[i]==-1):\n",
    "        y.pop(i)"
   ]
  },
  {
   "cell_type": "markdown",
   "metadata": {},
   "source": [
    "Step2 数据预处理,这里为了节约时间，仅使用百分之10的数据作训练和预测（其实更多比例也不会特别费时）"
   ]
  },
  {
   "cell_type": "code",
   "execution_count": 36,
   "metadata": {},
   "outputs": [],
   "source": [
    "from sklearn.model_selection import train_test_split\n",
    "X_train,X_test,y_train,y_test = train_test_split(data,y,test_size=0.7,random_state=666,shuffle = True)\n",
    "X_train,X_test,y_train,y_test = train_test_split(X_train,y_train,test_size=0.333,random_state=666,shuffle = False)\n"
   ]
  },
  {
   "cell_type": "markdown",
   "metadata": {},
   "source": [
    "归一化"
   ]
  },
  {
   "cell_type": "code",
   "execution_count": 46,
   "metadata": {},
   "outputs": [
    {
     "name": "stderr",
     "output_type": "stream",
     "text": [
      "C:\\Programs\\Anaconda3\\lib\\site-packages\\sklearn\\preprocessing\\data.py:323: DataConversionWarning: Data with input dtype int64, float64 were all converted to float64 by MinMaxScaler.\n",
      "  return self.partial_fit(X, y)\n",
      "C:\\Programs\\Anaconda3\\lib\\site-packages\\sklearn\\preprocessing\\data.py:323: DataConversionWarning: Data with input dtype int64, float64 were all converted to float64 by MinMaxScaler.\n",
      "  return self.partial_fit(X, y)\n"
     ]
    }
   ],
   "source": [
    "from sklearn import preprocessing\n",
    "min_max_scaler = preprocessing.MinMaxScaler()\n",
    "X_train_scaled = min_max_scaler.fit_transform(X_train)\n",
    "X_test_scaled = min_max_scaler.fit_transform(X_test)\n"
   ]
  },
  {
   "cell_type": "code",
   "execution_count": 45,
   "metadata": {},
   "outputs": [
    {
     "data": {
      "text/plain": [
       "pandas.core.frame.DataFrame"
      ]
     },
     "execution_count": 45,
     "metadata": {},
     "output_type": "execute_result"
    }
   ],
   "source": [
    "type(X_train)"
   ]
  },
  {
   "cell_type": "code",
   "execution_count": 44,
   "metadata": {},
   "outputs": [
    {
     "data": {
      "text/plain": [
       "numpy.ndarray"
      ]
     },
     "execution_count": 44,
     "metadata": {},
     "output_type": "execute_result"
    }
   ],
   "source": [
    "type(X_train_scaled)"
   ]
  },
  {
   "cell_type": "markdown",
   "metadata": {},
   "source": [
    "特征选择"
   ]
  },
  {
   "cell_type": "code",
   "execution_count": 50,
   "metadata": {},
   "outputs": [],
   "source": [
    "import matplotlib.pyplot as plt\n",
    "from sklearn.svm import SVC\n",
    "from sklearn.model_selection import StratifiedKFold\n",
    "from sklearn.feature_selection import RFECV\n",
    "from sklearn.datasets import make_classification\n",
    "from sklearn.tree import DecisionTreeClassifier\n",
    "svc = SVC(kernel='linear')\n",
    "dt = DecisionTreeClassifier()\n",
    "rfecv = RFECV(estimator=dt,step=1,cv=StratifiedKFold(2),scoring='accuracy')\n"
   ]
  },
  {
   "cell_type": "code",
   "execution_count": 51,
   "metadata": {},
   "outputs": [
    {
     "data": {
      "text/plain": [
       "RFECV(cv=StratifiedKFold(n_splits=2, random_state=None, shuffle=False),\n",
       "   estimator=DecisionTreeClassifier(class_weight=None, criterion='gini', max_depth=None,\n",
       "            max_features=None, max_leaf_nodes=None,\n",
       "            min_impurity_decrease=0.0, min_impurity_split=None,\n",
       "            min_samples_leaf=1, min_samples_split=2,\n",
       "            min_weight_fraction_leaf=0.0, presort=False, random_state=None,\n",
       "            splitter='best'),\n",
       "   min_features_to_select=1, n_jobs=None, scoring='accuracy', step=1,\n",
       "   verbose=0)"
      ]
     },
     "execution_count": 51,
     "metadata": {},
     "output_type": "execute_result"
    }
   ],
   "source": [
    "rfecv.fit(X_train,y_train)"
   ]
  },
  {
   "cell_type": "code",
   "execution_count": 52,
   "metadata": {},
   "outputs": [
    {
     "name": "stdout",
     "output_type": "stream",
     "text": [
      "optimal number of features : 1\n",
      "ranking of features names :Index(['power', 'pitch2_speed', 'wind_direction', 'pitch2_moto_tmp', 'acc_x',\n",
      "       'yaw_position', 'environment_tmp', 'pitch2_angle', 'pitch1_speed',\n",
      "       'pitch1_angle', 'pitch1_ng5_DC', 'pitch3_ng5_DC', 'group',\n",
      "       'wind_direction_mean', 'pitch3_angle', 'pitch3_speed', 'pitch2_ng5_tmp',\n",
      "       'acc_y', 'generator_speed', 'yaw_speed', 'pitch1_moto_tmp',\n",
      "       'pitch1_ng5_tmp', 'pitch3_moto_tmp', 'int_tmp', 'pitch2_ng5_DC',\n",
      "       'pitch3_ng5_tmp', 'wind_speed'],\n",
      "      dtype='object')\n",
      "ranking of features nums: [ 3 12  4 15 17  6 19  9 11  8 24 26 27  5 10 13 22 18  2  7 14 21 16 20\n",
      " 25 23  1]\n"
     ]
    }
   ],
   "source": [
    "print('optimal number of features : %d'%rfecv.n_features_)\n",
    "print('ranking of features names :%s'%X_train.columns[rfecv.ranking_-1])\n",
    "print('ranking of features nums: %s'%rfecv.ranking_)"
   ]
  },
  {
   "cell_type": "code",
   "execution_count": 53,
   "metadata": {},
   "outputs": [
    {
     "data": {
      "image/png": "[encoded data removed]",
      "text/plain": [
       "<Figure size 432x288 with 1 Axes>"
      ]
     },
     "metadata": {
      "needs_background": "light"
     },
     "output_type": "display_data"
    }
   ],
   "source": [
    "plt.figure()\n",
    "plt.xlabel('Number of features selected')\n",
    "plt.ylabel('cross validation score(nb of correct classication)')\n",
    "plt.plot(range(1,len(rfecv.grid_scores_) + 1),rfecv.grid_scores_)\n",
    "plt.savefig('feature.jpg')\n",
    "plt.show()"
   ]
  },
  {
   "cell_type": "markdown",
   "metadata": {},
   "source": [
    "特征对比图"
   ]
  },
  {
   "cell_type": "code",
   "execution_count": 55,
   "metadata": {},
   "outputs": [
    {
     "data": {
      "text/html": [
       "<div>\n",
       "<style scoped>\n",
       "    .dataframe tbody tr th:only-of-type {\n",
       "        vertical-align: middle;\n",
       "    }\n",
       "\n",
       "    .dataframe tbody tr th {\n",
       "        vertical-align: top;\n",
       "    }\n",
       "\n",
       "    .dataframe thead th {\n",
       "        text-align: right;\n",
       "    }\n",
       "</style>\n",
       "<table border=\"1\" class=\"dataframe\">\n",
       "  <thead>\n",
       "    <tr style=\"text-align: right;\">\n",
       "      <th></th>\n",
       "      <th>wind_speed</th>\n",
       "      <th>generator_speed</th>\n",
       "      <th>power</th>\n",
       "      <th>wind_direction</th>\n",
       "      <th>wind_direction_mean</th>\n",
       "      <th>yaw_position</th>\n",
       "      <th>yaw_speed</th>\n",
       "      <th>pitch1_angle</th>\n",
       "      <th>pitch2_angle</th>\n",
       "      <th>pitch3_angle</th>\n",
       "      <th>...</th>\n",
       "      <th>acc_y</th>\n",
       "      <th>environment_tmp</th>\n",
       "      <th>int_tmp</th>\n",
       "      <th>pitch1_ng5_tmp</th>\n",
       "      <th>pitch2_ng5_tmp</th>\n",
       "      <th>pitch3_ng5_tmp</th>\n",
       "      <th>pitch1_ng5_DC</th>\n",
       "      <th>pitch2_ng5_DC</th>\n",
       "      <th>pitch3_ng5_DC</th>\n",
       "      <th>group</th>\n",
       "    </tr>\n",
       "  </thead>\n",
       "  <tbody>\n",
       "    <tr>\n",
       "      <th>288363</th>\n",
       "      <td>-0.957613</td>\n",
       "      <td>-1.172869</td>\n",
       "      <td>-0.843076</td>\n",
       "      <td>1.713161</td>\n",
       "      <td>0.083287</td>\n",
       "      <td>1.492493</td>\n",
       "      <td>0.170338</td>\n",
       "      <td>0.177778</td>\n",
       "      <td>0.204444</td>\n",
       "      <td>0.204444</td>\n",
       "      <td>...</td>\n",
       "      <td>0.061109</td>\n",
       "      <td>-0.293454</td>\n",
       "      <td>-0.635228</td>\n",
       "      <td>0.644615</td>\n",
       "      <td>0.860000</td>\n",
       "      <td>0.583077</td>\n",
       "      <td>0.56</td>\n",
       "      <td>-0.92</td>\n",
       "      <td>1.92</td>\n",
       "      <td>2818</td>\n",
       "    </tr>\n",
       "    <tr>\n",
       "      <th>161717</th>\n",
       "      <td>-0.249523</td>\n",
       "      <td>-0.361860</td>\n",
       "      <td>-0.498943</td>\n",
       "      <td>0.247484</td>\n",
       "      <td>0.795081</td>\n",
       "      <td>-1.196717</td>\n",
       "      <td>-0.038964</td>\n",
       "      <td>0.168889</td>\n",
       "      <td>0.204444</td>\n",
       "      <td>0.208889</td>\n",
       "      <td>...</td>\n",
       "      <td>-1.209522</td>\n",
       "      <td>-1.745271</td>\n",
       "      <td>-1.665902</td>\n",
       "      <td>0.936923</td>\n",
       "      <td>1.200000</td>\n",
       "      <td>0.815385</td>\n",
       "      <td>1.32</td>\n",
       "      <td>1.60</td>\n",
       "      <td>-1.64</td>\n",
       "      <td>1578</td>\n",
       "    </tr>\n",
       "    <tr>\n",
       "      <th>359170</th>\n",
       "      <td>-1.012932</td>\n",
       "      <td>-1.172869</td>\n",
       "      <td>-0.877126</td>\n",
       "      <td>-1.881114</td>\n",
       "      <td>-1.499885</td>\n",
       "      <td>-0.731058</td>\n",
       "      <td>-0.004080</td>\n",
       "      <td>0.208889</td>\n",
       "      <td>0.222222</td>\n",
       "      <td>0.217778</td>\n",
       "      <td>...</td>\n",
       "      <td>0.061109</td>\n",
       "      <td>-0.989380</td>\n",
       "      <td>-0.767170</td>\n",
       "      <td>0.615385</td>\n",
       "      <td>0.661538</td>\n",
       "      <td>0.907692</td>\n",
       "      <td>-1.60</td>\n",
       "      <td>-0.64</td>\n",
       "      <td>-0.76</td>\n",
       "      <td>3511</td>\n",
       "    </tr>\n",
       "    <tr>\n",
       "      <th>91553</th>\n",
       "      <td>0.189345</td>\n",
       "      <td>0.754938</td>\n",
       "      <td>0.130808</td>\n",
       "      <td>-2.034760</td>\n",
       "      <td>-0.952741</td>\n",
       "      <td>-0.678640</td>\n",
       "      <td>0.100571</td>\n",
       "      <td>0.204444</td>\n",
       "      <td>0.137778</td>\n",
       "      <td>0.164444</td>\n",
       "      <td>...</td>\n",
       "      <td>0.061109</td>\n",
       "      <td>-0.689548</td>\n",
       "      <td>-0.348399</td>\n",
       "      <td>1.276923</td>\n",
       "      <td>1.384615</td>\n",
       "      <td>0.583077</td>\n",
       "      <td>-0.60</td>\n",
       "      <td>0.16</td>\n",
       "      <td>0.00</td>\n",
       "      <td>896</td>\n",
       "    </tr>\n",
       "    <tr>\n",
       "      <th>23676</th>\n",
       "      <td>-0.625696</td>\n",
       "      <td>-0.547993</td>\n",
       "      <td>-0.577050</td>\n",
       "      <td>-1.138780</td>\n",
       "      <td>-1.104725</td>\n",
       "      <td>1.620532</td>\n",
       "      <td>-0.178499</td>\n",
       "      <td>0.244444</td>\n",
       "      <td>0.275556</td>\n",
       "      <td>0.324444</td>\n",
       "      <td>...</td>\n",
       "      <td>0.061109</td>\n",
       "      <td>0.653383</td>\n",
       "      <td>1.028382</td>\n",
       "      <td>0.629231</td>\n",
       "      <td>1.000000</td>\n",
       "      <td>0.783077</td>\n",
       "      <td>1.92</td>\n",
       "      <td>-0.56</td>\n",
       "      <td>2.08</td>\n",
       "      <td>230</td>\n",
       "    </tr>\n",
       "  </tbody>\n",
       "</table>\n",
       "<p>5 rows × 27 columns</p>\n",
       "</div>"
      ],
      "text/plain": [
       "        wind_speed  generator_speed     power  wind_direction  \\\n",
       "288363   -0.957613        -1.172869 -0.843076        1.713161   \n",
       "161717   -0.249523        -0.361860 -0.498943        0.247484   \n",
       "359170   -1.012932        -1.172869 -0.877126       -1.881114   \n",
       "91553     0.189345         0.754938  0.130808       -2.034760   \n",
       "23676    -0.625696        -0.547993 -0.577050       -1.138780   \n",
       "\n",
       "        wind_direction_mean  yaw_position  yaw_speed  pitch1_angle  \\\n",
       "288363             0.083287      1.492493   0.170338      0.177778   \n",
       "161717             0.795081     -1.196717  -0.038964      0.168889   \n",
       "359170            -1.499885     -0.731058  -0.004080      0.208889   \n",
       "91553             -0.952741     -0.678640   0.100571      0.204444   \n",
       "23676             -1.104725      1.620532  -0.178499      0.244444   \n",
       "\n",
       "        pitch2_angle  pitch3_angle  ...       acc_y  environment_tmp  \\\n",
       "288363      0.204444      0.204444  ...    0.061109        -0.293454   \n",
       "161717      0.204444      0.208889  ...   -1.209522        -1.745271   \n",
       "359170      0.222222      0.217778  ...    0.061109        -0.989380   \n",
       "91553       0.137778      0.164444  ...    0.061109        -0.689548   \n",
       "23676       0.275556      0.324444  ...    0.061109         0.653383   \n",
       "\n",
       "         int_tmp  pitch1_ng5_tmp  pitch2_ng5_tmp  pitch3_ng5_tmp  \\\n",
       "288363 -0.635228        0.644615        0.860000        0.583077   \n",
       "161717 -1.665902        0.936923        1.200000        0.815385   \n",
       "359170 -0.767170        0.615385        0.661538        0.907692   \n",
       "91553  -0.348399        1.276923        1.384615        0.583077   \n",
       "23676   1.028382        0.629231        1.000000        0.783077   \n",
       "\n",
       "        pitch1_ng5_DC  pitch2_ng5_DC  pitch3_ng5_DC  group  \n",
       "288363           0.56          -0.92           1.92   2818  \n",
       "161717           1.32           1.60          -1.64   1578  \n",
       "359170          -1.60          -0.64          -0.76   3511  \n",
       "91553           -0.60           0.16           0.00    896  \n",
       "23676            1.92          -0.56           2.08    230  \n",
       "\n",
       "[5 rows x 27 columns]"
      ]
     },
     "execution_count": 55,
     "metadata": {},
     "output_type": "execute_result"
    }
   ],
   "source": [
    "X_train.head()"
   ]
  },
  {
   "cell_type": "code",
   "execution_count": 56,
   "metadata": {},
   "outputs": [
    {
     "name": "stderr",
     "output_type": "stream",
     "text": [
      "C:\\Programs\\Anaconda3\\lib\\site-packages\\scipy\\stats\\stats.py:1713: FutureWarning: Using a non-tuple sequence for multidimensional indexing is deprecated; use `arr[tuple(seq)]` instead of `arr[seq]`. In the future this will be interpreted as an array index, `arr[np.array(seq)]`, which will result either in an error or a different result.\n",
      "  return np.add.reduce(sorted[indexer] * weights, axis=axis) / sumval\n"
     ]
    },
    {
     "data": {
      "image/png": "[encoded data removed]",
      "text/plain": [
       "<Figure size 540x540 with 12 Axes>"
      ]
     },
     "metadata": {
      "needs_background": "light"
     },
     "output_type": "display_data"
    }
   ],
   "source": [
    "import seaborn as sns\n",
    "sns.pairplot(X_train,vars=['wind_speed','generator_speed','power'],palette='husl',diag_kind='kde')\n",
    "plt.savefig('duibi.jpg')"
   ]
  },
  {
   "cell_type": "markdown",
   "metadata": {},
   "source": [
    "网格搜索随机森林最佳参数"
   ]
  },
  {
   "cell_type": "code",
   "execution_count": 57,
   "metadata": {},
   "outputs": [],
   "source": [
    "def Gridsearch():\n",
    "    param_grid = [{\n",
    "        'n_estimators':[i for i in range(500,510)],\n",
    "        'oob_score':True,\n",
    "        'random_state':[i for i in range(30,50)],\n",
    "        'min_samples_split':[i for i in range(2,20)],\n",
    "        'max_depth':[i for i in range(100,200)],\n",
    "    }]\n",
    "    rf_clf = RandomForestClassifier(max_depth=146,n_estimators=500,\n",
    "                                   max_leaf_nodes = 25000,oob_score=True)\n",
    "    grid_search = GridsearchCV(rf_clf,param_grid,n_jobs=-1)\n",
    "    grid_search.fit(X,y)\n",
    "    grid_search.best_score_\n",
    "    grid_search.best_estimator_\n",
    "    "
   ]
  },
  {
   "cell_type": "markdown",
   "metadata": {},
   "source": [
    "使用随机森林分类器（直接使用网格搜索的最佳参数）"
   ]
  },
  {
   "cell_type": "code",
   "execution_count": 60,
   "metadata": {},
   "outputs": [
    {
     "name": "stdout",
     "output_type": "stream",
     "text": [
      "0.9999866428018059\n"
     ]
    }
   ],
   "source": [
    "from sklearn.ensemble import RandomForestClassifier\n",
    "rf_clf = RandomForestClassifier(max_depth=146,n_estimators=2500,\n",
    "                                max_leaf_nodes=2500,oob_score=True,\n",
    "                                random_state=30,n_jobs=-1)\n",
    "rf_clf.fit(X_train,y_train)\n",
    "y_predict = rf_clf.predict(X_test)\n",
    "print(rf_clf.oob_score_)"
   ]
  },
  {
   "cell_type": "markdown",
   "metadata": {},
   "source": [
    "绘制混淆矩阵"
   ]
  },
  {
   "cell_type": "code",
   "execution_count": null,
   "metadata": {},
   "outputs": [],
   "source": [
    "def plot_confusion_matrix(cm,classes,normalize=False,\n",
    "                         title='Confusion matrix',\n",
    "                         cmap = plt.cm.Blues):\n",
    "    '''\n",
    "    Normalization can be applied by setting ‘normalize = True‘\n",
    "    '''\n",
    "    plt.imshow(cm,interpolation='nearest',cmap=cmap)\n",
    "    plt.title(title)\n",
    "    plt.colorbar()\n",
    "    tick_marks = np.arange(len(classes))\n",
    "    plt.xticks(tick_marks,classes,rotation=45)\n",
    "    plt.yticks(tick_marks,classes)\n",
    "    \n",
    "    if normalize:\n",
    "        cm = cm.astype('flaoat')/cm.sum"
   ]
  }
 ],
 "metadata": {
  "kernelspec": {
   "display_name": "Python 3",
   "language": "python",
   "name": "python3"
  },
  "language_info": {
   "codemirror_mode": {
    "name": "ipython",
    "version": 3
   },
   "file_extension": ".py",
   "mimetype": "text/x-python",
   "name": "python",
   "nbconvert_exporter": "python",
   "pygments_lexer": "ipython3",
   "version": "3.7.1"
  }
 },
 "nbformat": 4,
 "nbformat_minor": 2
}
